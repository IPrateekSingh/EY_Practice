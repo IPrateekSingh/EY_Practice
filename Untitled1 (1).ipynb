{
 "cells": [
  {
   "cell_type": "code",
   "execution_count": 5,
   "metadata": {},
   "outputs": [
    {
     "name": "stdout",
     "output_type": "stream",
     "text": [
      "[11, 20, -6, -10.4, 17.0, 11.3]\n"
     ]
    }
   ],
   "source": [
    "l1=[1,4,-9,-5.2,8.5,10]\n",
    "l2=[10,5,-3,2,0.5,1.3]\n",
    "l3=['+','*','-','*','/','+']\n",
    "output=[]\n",
    "for i in range(len(l1)):\n",
    "    if l3[i]=='+':\n",
    "        output.append(l1[i]+l2[i])\n",
    "    elif l3[i]=='*':\n",
    "        output.append(l1[i]*l2[i])\n",
    "    elif l3[i]=='-':\n",
    "        output.append(l1[i]-l2[i])\n",
    "    elif l3[i]=='/':\n",
    "        output.append(l1[i]/l2[i])\n",
    "print(output)\n",
    "     "
   ]
  },
  {
   "cell_type": "code",
   "execution_count": null,
   "metadata": {},
   "outputs": [],
   "source": []
  }
 ],
 "metadata": {
  "kernelspec": {
   "display_name": "Python 3",
   "language": "python",
   "name": "python3"
  },
  "language_info": {
   "codemirror_mode": {
    "name": "ipython",
    "version": 3
   },
   "file_extension": ".py",
   "mimetype": "text/x-python",
   "name": "python",
   "nbconvert_exporter": "python",
   "pygments_lexer": "ipython3",
   "version": "3.7.6"
  }
 },
 "nbformat": 4,
 "nbformat_minor": 4
}
